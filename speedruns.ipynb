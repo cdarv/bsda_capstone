{
 "cells": [
  {
   "cell_type": "markdown",
   "id": "4d0aba7e-c7e2-4694-8a81-a03d307704ec",
   "metadata": {},
   "source": [
    "# Speedrun Efficiency Analysis"
   ]
  },
  {
   "cell_type": "markdown",
   "id": "e7d7b90d-0832-4f2b-8839-e33826ccaed7",
   "metadata": {},
   "source": [
    "### Game Selection"
   ]
  },
  {
   "cell_type": "code",
   "execution_count": 1,
   "id": "9266c9bb-aafa-420b-81b9-8c21c2ebd4c1",
   "metadata": {},
   "outputs": [],
   "source": [
    "# Selecting the game\n",
    "game_name = 'elden_ring'"
   ]
  },
  {
   "cell_type": "markdown",
   "id": "c8926f56-eb8c-44f1-ad04-f19cea42e833",
   "metadata": {
    "jp-MarkdownHeadingCollapsed": true
   },
   "source": [
    "### Import Libraries"
   ]
  },
  {
   "cell_type": "code",
   "execution_count": 2,
   "id": "bd698929-c246-4ef5-b71e-59e36394cac9",
   "metadata": {},
   "outputs": [],
   "source": [
    "import os\n",
    "import time\n",
    "import json\n",
    "import datetime as dt\n",
    "import requests\n",
    "import pandas as pd\n",
    "import matplotlib.pyplot as plt\n",
    "import matplotlib.dates as mdates\n",
    "import matplotlib.patches as mpatches\n",
    "import numpy as np\n",
    "import pwlf\n",
    "from sklearn.utils import resample"
   ]
  },
  {
   "cell_type": "markdown",
   "id": "683d63f9-622c-406a-8791-f0e8d6b96547",
   "metadata": {
    "jp-MarkdownHeadingCollapsed": true
   },
   "source": [
    "### Defining variables for API GET statenent"
   ]
  },
  {
   "cell_type": "code",
   "execution_count": 3,
   "id": "4fa08701-e946-4fc4-9896-aed899dca58d",
   "metadata": {},
   "outputs": [],
   "source": [
    "# Getting the game ID\n",
    "base_url = 'https://www.speedrun.com/api/v1'\n",
    "\n",
    "response = requests.get(f'{base_url}/games?name={game_name}')\n",
    "data = response.json()"
   ]
  },
  {
   "cell_type": "code",
   "execution_count": 4,
   "id": "8a2d6300-62d9-4ffc-8e90-1a44810fbf01",
   "metadata": {},
   "outputs": [],
   "source": [
    "# Define the status, platform, order, direction, and max results\n",
    "status = 'verified'\n",
    "platform = '8gej2n93'  # Platform == PC\n",
    "orderby = 'date'\n",
    "direction = 'asc'\n",
    "max_results = 200  # Maximum results per page"
   ]
  },
  {
   "cell_type": "code",
   "execution_count": 5,
   "id": "03f040bc-85c0-4450-ba63-0f8adb2513a3",
   "metadata": {},
   "outputs": [
    {
     "data": {
      "text/plain": [
       "'nd28z0ed'"
      ]
     },
     "execution_count": 5,
     "metadata": {},
     "output_type": "execute_result"
    }
   ],
   "source": [
    "def get_game_id(game_name):\n",
    "    response = requests.get(f'{base_url}/games?name={game_name}')\n",
    "    data = response.json()\n",
    "    if response.status_code == 200:\n",
    "        return data['data'][0]['id']\n",
    "    else:\n",
    "        return None\n",
    "\n",
    "get_game_id(game_name)"
   ]
  },
  {
   "cell_type": "markdown",
   "id": "b8a66270-643b-4d8a-a1cd-d3c1bd30f32b",
   "metadata": {},
   "source": [
    "### Defining Functions"
   ]
  },
  {
   "cell_type": "markdown",
   "id": "8760898a-77a0-461e-90dc-4117f404bc32",
   "metadata": {
    "jp-MarkdownHeadingCollapsed": true
   },
   "source": [
    "#### Getting the categories for the game"
   ]
  },
  {
   "cell_type": "code",
   "execution_count": 6,
   "id": "c466b29a-02cb-4f37-8d48-5fb29cd03e9d",
   "metadata": {},
   "outputs": [],
   "source": [
    "def get_categories(game_id):\n",
    "    response = requests.get(f'{base_url}/games/{game_id}/categories')\n",
    "    if response.status_code == 200:\n",
    "        data = response.json()\n",
    "        categories = {}\n",
    "        for category in data['data']:\n",
    "            # Get the category type ('per-level' or 'full-game')\n",
    "            category_type = category['type']\n",
    "            # Store the category name and type in the dictionary\n",
    "            categories[category['id']] = {'name': category['name'], 'type': category_type}\n",
    "        return categories\n",
    "    else:\n",
    "        print(f'Request failed with status code {response.status_code}.')\n",
    "        return None"
   ]
  },
  {
   "cell_type": "markdown",
   "id": "da728452-98df-42eb-b421-45376806d336",
   "metadata": {
    "jp-MarkdownHeadingCollapsed": true
   },
   "source": [
    "#### Getting the runs for the game"
   ]
  },
  {
   "cell_type": "code",
   "execution_count": 7,
   "id": "f65bd2a3-edf6-4522-a97c-5983b15037dd",
   "metadata": {},
   "outputs": [],
   "source": [
    "def get_runs_for_category(game_id, category_id, category_name, category_type):\n",
    "    extracted_data = []\n",
    "    page = 0\n",
    "    while True:\n",
    "        offset = page * max_results\n",
    "        response = requests.get(f'{base_url}/runs?game={game_id}&category={category_id}&status={status}&platform={platform}&orderby={orderby}&direction={direction}&max={max_results}&offset={offset}')\n",
    "        if response.status_code == 200:\n",
    "            data = response.json()\n",
    "            if not data['data']:\n",
    "                break\n",
    "            for run in data['data']:\n",
    "                date = run['date']\n",
    "                submitted = run['submitted']\n",
    "                verified = run['status']['status']\n",
    "                primary_t = run['times']['primary_t']\n",
    "                realtime_t = run['times']['realtime_t']\n",
    "                extracted_data.append([date, submitted, verified, primary_t, realtime_t, category_name, category_type])\n",
    "            print(f'Page {page + 1} processed for category {category_name} and type {category_type}.')\n",
    "        else:\n",
    "            print(f'Request failed with status code {response.status_code}. Stopping data collection.')\n",
    "            print(response.text)\n",
    "            break\n",
    "        time.sleep(.6)\n",
    "        page += 1\n",
    "    return extracted_data"
   ]
  },
  {
   "cell_type": "markdown",
   "id": "2931de27-f411-4fce-9bfb-c3259d7af24b",
   "metadata": {
    "jp-MarkdownHeadingCollapsed": true
   },
   "source": [
    "#### Graphing the efficiency point"
   ]
  },
  {
   "cell_type": "code",
   "execution_count": 8,
   "id": "ebe8a790-be85-4d98-90e7-b74a38507ca5",
   "metadata": {},
   "outputs": [],
   "source": [
    "def efficiency_graph(game_name, top_category, top_type, csv_df, my_pwlf):\n",
    "    # Convert the dates to numerical format for plotting\n",
    "    x_dates = [dt.datetime.fromordinal(int(i)) for i in csv_df['Date'].map(dt.datetime.toordinal).values]\n",
    "    yHat = my_pwlf.predict(csv_df['Date'].map(dt.datetime.toordinal).values)\n",
    "\n",
    "    # Create a new figure and axes with a larger size\n",
    "    fig, ax = plt.subplots(figsize=(12, 8))\n",
    "\n",
    "    # Plot the piecewise linear fit\n",
    "    ax.plot(x_dates, yHat, linestyle='--', linewidth=3, color='lightgrey', label='Piecewise Linear Fit')\n",
    "\n",
    "    # Plot the original data\n",
    "    ax.plot(csv_df['Date'], csv_df['Top_Score'], linestyle='solid', linewidth=3, color='blue', label='Original Data')\n",
    "\n",
    "    # Get the breakpoints that were calculated during the fit\n",
    "    breakpoints = my_pwlf.fit_breaks\n",
    "\n",
    "    # The elbow is the second breakpoint (the first one is the start of the data)\n",
    "    elbow_x = breakpoints[1]\n",
    "    elbow_y = my_pwlf.predict(elbow_x)\n",
    "\n",
    "    # Convert the ordinal date back to a datetime\n",
    "    elbow_date = dt.datetime.fromordinal(int(elbow_x))\n",
    "\n",
    "    # Define the end point of the line (getting the label closer to the middle of the graph)\n",
    "    end_x = elbow_date + (max(csv_df['Date']) - elbow_date) / 100\n",
    "    end_y = elbow_y + (max(csv_df['Top_Score']) - elbow_y) / 5\n",
    "\n",
    "    # Add the annotation for the elbow with a line going to the middle of the graph\n",
    "    ax.annotate('Efficiency Point', fontweight='bold',\n",
    "                xy=(elbow_date, elbow_y),\n",
    "                xytext=(end_x, end_y),\n",
    "                arrowprops=dict(arrowstyle='-', color='black'))\n",
    "\n",
    "    # Set the title and labels\n",
    "    ax.set_title(f'Top Runs Over Time (Game: \"{game_name}\", Category: \"{top_category}\", Type: \"{top_type}\")', fontweight='bold')\n",
    "    ax.set_xlabel('Date', fontweight='bold')\n",
    "    ax.set_ylabel('Top Score (In Seconds)', fontweight='bold')\n",
    "\n",
    "    # Format date\n",
    "    date_format = mdates.DateFormatter('%Y-%m-%d')\n",
    "    ax.xaxis.set_major_formatter(date_format)\n",
    "\n",
    "    # Rotate date labels automatically\n",
    "    fig.autofmt_xdate()\n",
    "\n",
    "    # Create custom legend handles\n",
    "    handle1 = mpatches.Patch(color='blue', label='Top Runs')\n",
    "    handle2 = mpatches.Patch(color='lightgrey', label='Piecewise Linear Fit')\n",
    "\n",
    "    # Add the custom legend\n",
    "    ax.legend(handles=[handle1, handle2], loc='upper right')\n",
    "\n",
    "    # Add grid lines\n",
    "    ax.grid(True)\n",
    "\n",
    "    # Show the plot\n",
    "    plt.show()\n",
    "\n",
    "    return elbow_x, elbow_y, elbow_date"
   ]
  },
  {
   "cell_type": "markdown",
   "id": "f76b1df4-41fa-43c2-afe9-b6164883d2d8",
   "metadata": {
    "jp-MarkdownHeadingCollapsed": true
   },
   "source": [
    "#### Graphing the jackknife resample"
   ]
  },
  {
   "cell_type": "code",
   "execution_count": 9,
   "id": "01b315a2-ce3b-4072-9ceb-2a9601ed2003",
   "metadata": {},
   "outputs": [],
   "source": [
    "def jackknife_efficiency_graph(jackknife_efficiency_points, ci_lower_date, ci_upper_date, elbow_date):\n",
    "    # Convert the dates to numerical format for plotting\n",
    "    jackknife_efficiency_points_num = mdates.date2num([dt.datetime.fromordinal(int(x)) for x in jackknife_efficiency_points])\n",
    "    ci_lower_date_num = mdates.date2num(ci_lower_date)\n",
    "    ci_upper_date_num = mdates.date2num(ci_upper_date)\n",
    "\n",
    "    # Create a new figure and axes with a larger size\n",
    "    fig, ax = plt.subplots(figsize=(12, 8))\n",
    "\n",
    "    # Add grid lines\n",
    "    ax.grid(True, zorder=0)\n",
    "\n",
    "    # Create a histogram of the jackknife efficiency points\n",
    "    plt.hist(jackknife_efficiency_points_num, bins=30, alpha=0.5, color='steelblue', edgecolor='black', zorder=2)\n",
    "\n",
    "    # Add a vertical line for the lower and upper bounds of the 99% confidence interval\n",
    "    plt.axvline(ci_lower_date_num, color='red', linestyle='dashed', linewidth=2, label='Confidence Interval')\n",
    "    plt.axvline(ci_upper_date_num, color='red', linestyle='dashed', linewidth=2)\n",
    "    plt.axvline(elbow_date, color='blue', linestyle='dashed', linewidth=2, label='Efficiency Point')\n",
    "\n",
    "    # Add a title and labels\n",
    "    plt.title('Jackknife Efficiency Points')\n",
    "    plt.xlabel('Efficiency Point')\n",
    "    plt.ylabel('Frequency')\n",
    "\n",
    "    # Change x-axis labels back to dates\n",
    "    ax.xaxis.set_major_locator(mdates.AutoDateLocator())\n",
    "    ax.xaxis.set_major_formatter(mdates.DateFormatter('%Y.%m.%d'))\n",
    "\n",
    "    # Add a legend\n",
    "    plt.legend()\n",
    "\n",
    "    # Rotate date labels to prevent overlap\n",
    "    plt.xticks(rotation=45)\n",
    "\n",
    "    # Show the plot\n",
    "    plt.show()"
   ]
  },
  {
   "cell_type": "markdown",
   "id": "d253c219-4711-4f1f-9c27-2329d690aac9",
   "metadata": {
    "jp-MarkdownHeadingCollapsed": true
   },
   "source": [
    "### Pulling the API run data by game and category"
   ]
  },
  {
   "cell_type": "code",
   "execution_count": 10,
   "id": "4318841f-fa00-407b-8a66-d497c41cf958",
   "metadata": {},
   "outputs": [
    {
     "name": "stdout",
     "output_type": "stream",
     "text": [
      "Page 1 processed for category Any% and type per-game.\n",
      "Page 2 processed for category Any% and type per-game.\n",
      "Page 1 processed for category Any% Unrestricted and type per-game.\n",
      "Page 1 processed for category Any% No Wrong Warp and type per-game.\n",
      "Page 1 processed for category Any% Glitchless and type per-game.\n",
      "Page 2 processed for category Any% Glitchless and type per-game.\n",
      "Page 1 processed for category All Remembrances and type per-game.\n",
      "Page 1 processed for category All Remembrances Glitchless and type per-game.\n",
      "Page 1 processed for category All Achievements and type per-game.\n"
     ]
    }
   ],
   "source": [
    "# Get the game ID\n",
    "game_id = get_game_id(game_name)\n",
    "\n",
    "# Get the categories for the game\n",
    "categories = get_categories(game_id)\n",
    "\n",
    "# Initialize an empty list to store all the data\n",
    "all_data = []\n",
    "\n",
    "# Get the runs for each category\n",
    "for category_id, category_info in categories.items():\n",
    "    category_name = category_info['name']\n",
    "    category_type = category_info['type']\n",
    "    all_data.extend(get_runs_for_category(game_id, category_id, category_name, category_type))\n",
    "\n",
    "# Convert the list to a DataFrame\n",
    "df = pd.DataFrame(all_data, columns=['Date', 'Submitted', 'Verified', 'Primary_t', 'Realtime_t', 'Category_Name', 'Category_Type'])\n",
    "\n",
    "# Save the DataFrame to a CSV file\n",
    "df.to_csv('speedrun_data.csv', index=False)"
   ]
  },
  {
   "cell_type": "code",
   "execution_count": 11,
   "id": "f2029666-fcbd-4a64-9191-a03b1835ea38",
   "metadata": {},
   "outputs": [
    {
     "data": {
      "text/html": [
       "<div>\n",
       "<style scoped>\n",
       "    .dataframe tbody tr th:only-of-type {\n",
       "        vertical-align: middle;\n",
       "    }\n",
       "\n",
       "    .dataframe tbody tr th {\n",
       "        vertical-align: top;\n",
       "    }\n",
       "\n",
       "    .dataframe thead th {\n",
       "        text-align: right;\n",
       "    }\n",
       "</style>\n",
       "<table border=\"1\" class=\"dataframe\">\n",
       "  <thead>\n",
       "    <tr style=\"text-align: right;\">\n",
       "      <th></th>\n",
       "      <th>Date</th>\n",
       "      <th>Submitted</th>\n",
       "      <th>Verified</th>\n",
       "      <th>Primary_t</th>\n",
       "      <th>Realtime_t</th>\n",
       "      <th>Category_Name</th>\n",
       "      <th>Category_Type</th>\n",
       "    </tr>\n",
       "  </thead>\n",
       "  <tbody>\n",
       "    <tr>\n",
       "      <th>0</th>\n",
       "      <td>2022-03-17</td>\n",
       "      <td>2022-03-26T17:05:58Z</td>\n",
       "      <td>verified</td>\n",
       "      <td>2079</td>\n",
       "      <td>2079</td>\n",
       "      <td>Any%</td>\n",
       "      <td>per-game</td>\n",
       "    </tr>\n",
       "    <tr>\n",
       "      <th>1</th>\n",
       "      <td>2022-03-18</td>\n",
       "      <td>2022-03-27T22:39:38Z</td>\n",
       "      <td>verified</td>\n",
       "      <td>1715</td>\n",
       "      <td>1715</td>\n",
       "      <td>Any%</td>\n",
       "      <td>per-game</td>\n",
       "    </tr>\n",
       "    <tr>\n",
       "      <th>2</th>\n",
       "      <td>2022-03-20</td>\n",
       "      <td>2022-03-25T06:09:10Z</td>\n",
       "      <td>verified</td>\n",
       "      <td>1644</td>\n",
       "      <td>1644</td>\n",
       "      <td>Any%</td>\n",
       "      <td>per-game</td>\n",
       "    </tr>\n",
       "    <tr>\n",
       "      <th>3</th>\n",
       "      <td>2022-03-22</td>\n",
       "      <td>2022-03-25T02:25:10Z</td>\n",
       "      <td>verified</td>\n",
       "      <td>2402</td>\n",
       "      <td>2402</td>\n",
       "      <td>Any%</td>\n",
       "      <td>per-game</td>\n",
       "    </tr>\n",
       "    <tr>\n",
       "      <th>4</th>\n",
       "      <td>2022-03-22</td>\n",
       "      <td>2022-03-26T14:50:15Z</td>\n",
       "      <td>verified</td>\n",
       "      <td>1798</td>\n",
       "      <td>1798</td>\n",
       "      <td>Any%</td>\n",
       "      <td>per-game</td>\n",
       "    </tr>\n",
       "    <tr>\n",
       "      <th>...</th>\n",
       "      <td>...</td>\n",
       "      <td>...</td>\n",
       "      <td>...</td>\n",
       "      <td>...</td>\n",
       "      <td>...</td>\n",
       "      <td>...</td>\n",
       "      <td>...</td>\n",
       "    </tr>\n",
       "    <tr>\n",
       "      <th>887</th>\n",
       "      <td>2022-12-18</td>\n",
       "      <td>2022-12-18T18:35:19Z</td>\n",
       "      <td>verified</td>\n",
       "      <td>9941</td>\n",
       "      <td>9941</td>\n",
       "      <td>All Achievements</td>\n",
       "      <td>per-game</td>\n",
       "    </tr>\n",
       "    <tr>\n",
       "      <th>888</th>\n",
       "      <td>2023-02-20</td>\n",
       "      <td>2023-02-20T02:27:55Z</td>\n",
       "      <td>verified</td>\n",
       "      <td>10186</td>\n",
       "      <td>10186</td>\n",
       "      <td>All Achievements</td>\n",
       "      <td>per-game</td>\n",
       "    </tr>\n",
       "    <tr>\n",
       "      <th>889</th>\n",
       "      <td>2023-02-25</td>\n",
       "      <td>2023-02-24T21:45:35Z</td>\n",
       "      <td>verified</td>\n",
       "      <td>9770</td>\n",
       "      <td>9770</td>\n",
       "      <td>All Achievements</td>\n",
       "      <td>per-game</td>\n",
       "    </tr>\n",
       "    <tr>\n",
       "      <th>890</th>\n",
       "      <td>2023-03-16</td>\n",
       "      <td>2023-03-16T21:48:54Z</td>\n",
       "      <td>verified</td>\n",
       "      <td>9636</td>\n",
       "      <td>9636</td>\n",
       "      <td>All Achievements</td>\n",
       "      <td>per-game</td>\n",
       "    </tr>\n",
       "    <tr>\n",
       "      <th>891</th>\n",
       "      <td>2023-04-08</td>\n",
       "      <td>2023-04-08T00:45:39Z</td>\n",
       "      <td>verified</td>\n",
       "      <td>9553</td>\n",
       "      <td>9553</td>\n",
       "      <td>All Achievements</td>\n",
       "      <td>per-game</td>\n",
       "    </tr>\n",
       "  </tbody>\n",
       "</table>\n",
       "<p>892 rows × 7 columns</p>\n",
       "</div>"
      ],
      "text/plain": [
       "           Date             Submitted  Verified  Primary_t  Realtime_t  \\\n",
       "0    2022-03-17  2022-03-26T17:05:58Z  verified       2079        2079   \n",
       "1    2022-03-18  2022-03-27T22:39:38Z  verified       1715        1715   \n",
       "2    2022-03-20  2022-03-25T06:09:10Z  verified       1644        1644   \n",
       "3    2022-03-22  2022-03-25T02:25:10Z  verified       2402        2402   \n",
       "4    2022-03-22  2022-03-26T14:50:15Z  verified       1798        1798   \n",
       "..          ...                   ...       ...        ...         ...   \n",
       "887  2022-12-18  2022-12-18T18:35:19Z  verified       9941        9941   \n",
       "888  2023-02-20  2023-02-20T02:27:55Z  verified      10186       10186   \n",
       "889  2023-02-25  2023-02-24T21:45:35Z  verified       9770        9770   \n",
       "890  2023-03-16  2023-03-16T21:48:54Z  verified       9636        9636   \n",
       "891  2023-04-08  2023-04-08T00:45:39Z  verified       9553        9553   \n",
       "\n",
       "        Category_Name Category_Type  \n",
       "0                Any%      per-game  \n",
       "1                Any%      per-game  \n",
       "2                Any%      per-game  \n",
       "3                Any%      per-game  \n",
       "4                Any%      per-game  \n",
       "..                ...           ...  \n",
       "887  All Achievements      per-game  \n",
       "888  All Achievements      per-game  \n",
       "889  All Achievements      per-game  \n",
       "890  All Achievements      per-game  \n",
       "891  All Achievements      per-game  \n",
       "\n",
       "[892 rows x 7 columns]"
      ]
     },
     "execution_count": 11,
     "metadata": {},
     "output_type": "execute_result"
    }
   ],
   "source": [
    "# Load the data from the CSV file into a new df\n",
    "csv_df = pd.read_csv('speedrun_data.csv')\n",
    "csv_df"
   ]
  },
  {
   "cell_type": "markdown",
   "id": "54d628b4-760f-484e-9ce4-5f185d7da6aa",
   "metadata": {
    "jp-MarkdownHeadingCollapsed": true
   },
   "source": [
    "### Preparing data to do linear fit"
   ]
  },
  {
   "cell_type": "code",
   "execution_count": 12,
   "id": "d7c0d692-26d6-4add-aa9d-4b83c27ba40c",
   "metadata": {},
   "outputs": [
    {
     "data": {
      "text/plain": [
       "Date             892\n",
       "Submitted        892\n",
       "Verified         892\n",
       "Primary_t        892\n",
       "Realtime_t       892\n",
       "Category_Name    892\n",
       "Category_Type    892\n",
       "dtype: int64"
      ]
     },
     "execution_count": 12,
     "metadata": {},
     "output_type": "execute_result"
    }
   ],
   "source": [
    "# Filter out rows where 'Date' or 'Submitted' is None\n",
    "csv_df = csv_df[csv_df['Date'].notnull() & csv_df['Submitted'].notnull()]\n",
    "# Filter out Realtime that is 0\n",
    "csv_df = csv_df[csv_df['Primary_t'] > 0.1]\n",
    "csv_df.count()"
   ]
  },
  {
   "cell_type": "code",
   "execution_count": 13,
   "id": "de0e52c0-51d6-4934-9bb5-13599c7b879d",
   "metadata": {},
   "outputs": [
    {
     "data": {
      "text/plain": [
       "Category_Name\n",
       "Any%                           268\n",
       "Any% Glitchless                248\n",
       "All Remembrances               179\n",
       "Any% No Wrong Warp              86\n",
       "All Remembrances Glitchless     57\n",
       "Any% Unrestricted               34\n",
       "All Achievements                20\n",
       "Name: count, dtype: int64"
      ]
     },
     "execution_count": 13,
     "metadata": {},
     "output_type": "execute_result"
    }
   ],
   "source": [
    "csv_df['Category_Name'].value_counts()"
   ]
  },
  {
   "cell_type": "code",
   "execution_count": 14,
   "id": "acaeb990-8c30-4e18-91bc-15dea6f174b5",
   "metadata": {},
   "outputs": [
    {
     "name": "stdout",
     "output_type": "stream",
     "text": [
      "Any%\n",
      "per-game\n"
     ]
    }
   ],
   "source": [
    "# Get the category with the most runs\n",
    "top_category = csv_df['Category_Name'].value_counts().idxmax()\n",
    "print(top_category)\n",
    "# Filter the DataFrame to only include runs from the top category\n",
    "csv_df = csv_df[csv_df['Category_Name'] == top_category]\n",
    "\n",
    "# Get the category type with the most runs\n",
    "top_type = csv_df['Category_Type'].value_counts().idxmax()\n",
    "print(top_type)\n",
    "\n",
    "# Filter the DataFrame to only include runs from the top category type\n",
    "csv_df = csv_df[csv_df['Category_Type'] == top_type]"
   ]
  },
  {
   "cell_type": "code",
   "execution_count": 15,
   "id": "16f58da2-fb0f-48b7-8347-618973d86aaa",
   "metadata": {},
   "outputs": [],
   "source": [
    "# Getting the running top score\n",
    "csv_df['Top_Score'] = csv_df['Primary_t'].cummin()\n",
    "\n",
    "# Converting 'Date' is in datetime format\n",
    "csv_df['Date'] = pd.to_datetime(csv_df['Date'])\n",
    "\n",
    "# Sort by date\n",
    "csv_df = csv_df.sort_values('Date')\n",
    "\n",
    "# Define x (date) and y (top score)\n",
    "x = csv_df['Date'].map(dt.datetime.toordinal).values\n",
    "y = csv_df['Top_Score'].values\n",
    "\n",
    "# Initialize piecewise linear fit with your x and y data\n",
    "my_pwlf = pwlf.PiecewiseLinFit(x, y)\n",
    "\n",
    "# Fit the data for two line segments\n",
    "res = my_pwlf.fit(2)\n",
    "\n",
    "# Predict for the determined points\n",
    "xHat = np.linspace(min(x), max(x), num=10000)\n",
    "yHat = my_pwlf.predict(xHat)\n",
    "\n",
    "# Convert the ordinal dates back to datetime for plotting\n",
    "x_dates = [dt.datetime.fromordinal(int(i)) for i in xHat]"
   ]
  },
  {
   "cell_type": "markdown",
   "id": "9c3dc74c-87f0-47f2-aa34-fb571ea54dc6",
   "metadata": {},
   "source": [
    "### Graphing Efficiency Point based on Linear Fit"
   ]
  },
  {
   "cell_type": "code",
   "execution_count": 16,
   "id": "3e3d0b8a-92aa-4356-97c4-c2f11b604bf7",
   "metadata": {},
   "outputs": [
    {
     "data": {
      "image/png": "[encoded data removed]",
      "text/plain": [
       "<Figure size 1200x800 with 1 Axes>"
      ]
     },
     "metadata": {},
     "output_type": "display_data"
    }
   ],
   "source": [
    "elbow_x, elbow_y, elbow_date = efficiency_graph(game_name, top_category, top_type, csv_df, my_pwlf)"
   ]
  },
  {
   "cell_type": "markdown",
   "id": "cdf6b8fb-10db-490d-abb8-98fff7b5fc0d",
   "metadata": {
    "jp-MarkdownHeadingCollapsed": true
   },
   "source": [
    "### Exploratory Data Analysis on metrics"
   ]
  },
  {
   "cell_type": "code",
   "execution_count": 17,
   "id": "e8cd5f87-a760-4e82-a6db-e42c3688323f",
   "metadata": {},
   "outputs": [],
   "source": [
    "# Get the index of the elbow in the original data\n",
    "elbow_index = np.abs(x - elbow_x).argmin()\n",
    "\n",
    "# Calculate the number of runs to the efficiency point\n",
    "runs_to_efficiency = elbow_index + 1  # add 1 because indexing starts at 0\n",
    "\n",
    "# Calculate the percentage of runs complete at efficiency\n",
    "pct_runs_complete_at_efficiency = (runs_to_efficiency / len(x)) * 100\n",
    "\n",
    "# Calculate the number of days to the efficiency point\n",
    "days_to_efficiency = (elbow_date - min(csv_df['Date'])).days\n",
    "\n",
    "# Calculate the total number of days in the data\n",
    "total_days = (max(csv_df['Date']) - min(csv_df['Date'])).days\n",
    "\n",
    "# Calculate the percentage of days to efficiency out of total days\n",
    "pct_days_to_efficiency = (days_to_efficiency / total_days) * 100\n",
    "\n",
    "# Convert elbow_y to a float\n",
    "elbow_y_float = float(elbow_y[0])\n",
    "\n",
    "# Get the last row (the latest top score)\n",
    "latest_top_score = csv_df.iloc[-1]['Top_Score']"
   ]
  },
  {
   "cell_type": "code",
   "execution_count": 18,
   "id": "cc418b2f-24aa-436e-862a-f670d1f47b4e",
   "metadata": {},
   "outputs": [
    {
     "name": "stdout",
     "output_type": "stream",
     "text": [
      "Number of runs to efficiency point: 232\n",
      "Total runs: 268\n",
      "Date of efficiency: 2022-08-24\n",
      "Score at efficiency: 1206.78\n",
      "Latest Top Score: 1170.00\n",
      "Percentage of runs complete at efficiency: 86.57%\n",
      "\n",
      "Number of days to the efficiency point: 160\n",
      "Total number of days: 709\n",
      "Percentage of days to efficiency: 22.57%\n"
     ]
    }
   ],
   "source": [
    "# Print the information\n",
    "print(f\"Number of runs to efficiency point: {runs_to_efficiency}\")\n",
    "print(f\"Total runs: {len(x)}\")\n",
    "print(f\"Date of efficiency: {elbow_date.strftime('%Y-%m-%d')}\")\n",
    "print(f\"Score at efficiency: {elbow_y_float:.2f}\")\n",
    "print(f\"Latest Top Score: {latest_top_score:.2f}\")\n",
    "print(f\"Percentage of runs complete at efficiency: {pct_runs_complete_at_efficiency:.2f}%\")\n",
    "\n",
    "# Print the information\n",
    "print(\"\")\n",
    "print(f\"Number of days to the efficiency point: {days_to_efficiency}\")\n",
    "print(f\"Total number of days: {total_days}\")\n",
    "print(f\"Percentage of days to efficiency: {pct_days_to_efficiency:.2f}%\")"
   ]
  },
  {
   "cell_type": "markdown",
   "id": "d865c61e-6861-4286-a740-50a10faf9116",
   "metadata": {
    "jp-MarkdownHeadingCollapsed": true
   },
   "source": [
    "### Jackknife resampling to determine confidence level of efficiency"
   ]
  },
  {
   "cell_type": "code",
   "execution_count": 19,
   "id": "08934dbf-2a35-4d8d-a408-1fa54f5f53c7",
   "metadata": {},
   "outputs": [
    {
     "name": "stdout",
     "output_type": "stream",
     "text": [
      "Completed 100 Jackknife samples out of 268 Total Runs\n",
      "Completed 200 Jackknife samples out of 268 Total Runs\n",
      "99% confidence interval for the efficiency point:\n",
      "Early Date: 2022-08-22\n",
      "Late Date: 2022-08-25\n",
      "Estimated Date of efficiency: 2022-08-24\n"
     ]
    }
   ],
   "source": [
    "# Initialize a list to store the Jackknife efficiency points\n",
    "jackknife_efficiency_points = []\n",
    "\n",
    "# Perform Jackknife resampling\n",
    "for i in range(len(x)):\n",
    "    # Create a resampled dataset by leaving out one observation\n",
    "    resampled_x = np.delete(x, i)\n",
    "    resampled_y = np.delete(y, i)\n",
    "    \n",
    "    # Calculate the efficiency point for the resampled dataset\n",
    "    my_pwlf = pwlf.PiecewiseLinFit(resampled_x, resampled_y)\n",
    "    res = my_pwlf.fit(2)\n",
    "    elbow_x = res[1]  # the change point in the piecewise linear fit\n",
    "    \n",
    "    # Append the resampled efficiency point to the list\n",
    "    jackknife_efficiency_points.append(elbow_x)\n",
    "\n",
    "    # Print progress\n",
    "    if (i+1) % 100 == 0:\n",
    "        print(f\"Completed {i+1} Jackknife samples out of {len(x)} Total Runs\")\n",
    "\n",
    "# Convert the list to a numpy array\n",
    "jackknife_efficiency_points = np.array(jackknife_efficiency_points)\n",
    "\n",
    "# Calculate the 99% confidence interval\n",
    "ci_lower = np.percentile(jackknife_efficiency_points, 0.5)\n",
    "ci_upper = np.percentile(jackknife_efficiency_points, 99.5)\n",
    "\n",
    "# Convert the confidence interval bounds from ordinal date to regular date\n",
    "ci_lower_date = dt.datetime.fromordinal(int(ci_lower))\n",
    "ci_upper_date = dt.datetime.fromordinal(int(ci_upper))\n",
    "\n",
    "print(f\"99% confidence interval for the efficiency point:\")\n",
    "print(f\"Early Date: {ci_lower_date.strftime('%Y-%m-%d')}\")\n",
    "print(f\"Late Date: {ci_upper_date.strftime('%Y-%m-%d')}\")\n",
    "print(f\"Estimated Date of efficiency: {elbow_date.strftime('%Y-%m-%d')}\")"
   ]
  },
  {
   "cell_type": "markdown",
   "id": "8f725f17-20fc-4377-bd01-375692dc38b5",
   "metadata": {},
   "source": [
    "### Graphing Jackknife Confidence Interval"
   ]
  },
  {
   "cell_type": "code",
   "execution_count": 20,
   "id": "03ed501a-c913-4686-a8f9-7806ef8cc3bf",
   "metadata": {},
   "outputs": [
    {
     "data": {
      "image/png": "[encoded data removed]",
      "text/plain": [
       "<Figure size 1200x800 with 1 Axes>"
      ]
     },
     "metadata": {},
     "output_type": "display_data"
    }
   ],
   "source": [
    "jackknife_efficiency_graph(jackknife_efficiency_points, ci_lower_date, ci_upper_date, elbow_date)"
   ]
  }
 ],
 "metadata": {
  "kernelspec": {
   "display_name": "Python 3 (ipykernel)",
   "language": "python",
   "name": "python3"
  },
  "language_info": {
   "codemirror_mode": {
    "name": "ipython",
    "version": 3
   },
   "file_extension": ".py",
   "mimetype": "text/x-python",
   "name": "python",
   "nbconvert_exporter": "python",
   "pygments_lexer": "ipython3",
   "version": "3.12.2"
  }
 },
 "nbformat": 4,
 "nbformat_minor": 5
}
