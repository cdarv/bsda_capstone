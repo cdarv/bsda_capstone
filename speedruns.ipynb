{
 "cells": [
  {
   "cell_type": "code",
   "execution_count": 1,
   "id": "bd698929-c246-4ef5-b71e-59e36394cac9",
   "metadata": {},
   "outputs": [],
   "source": [
    "import time\n",
    "import json\n",
    "import datetime as dt\n",
    "import requests\n",
    "import pandas as pd\n",
    "import matplotlib.pyplot as plt\n",
    "import matplotlib.dates as mdates\n",
    "import matplotlib.patches as mpatches\n",
    "import numpy as np\n",
    "import pwlf"
   ]
  },
  {
   "cell_type": "code",
   "execution_count": 16,
   "id": "9266c9bb-aafa-420b-81b9-8c21c2ebd4c1",
   "metadata": {},
   "outputs": [],
   "source": [
    "# Selecting the game\n",
    "game_name = 'hades'"
   ]
  },
  {
   "cell_type": "code",
   "execution_count": 17,
   "id": "4fa08701-e946-4fc4-9896-aed899dca58d",
   "metadata": {},
   "outputs": [],
   "source": [
    "# Getting the game ID\n",
    "base_url = 'https://www.speedrun.com/api/v1'\n",
    "\n",
    "response = requests.get(f'{base_url}/games?name={game_name}')\n",
    "data = response.json()"
   ]
  },
  {
   "cell_type": "code",
   "execution_count": 18,
   "id": "8a2d6300-62d9-4ffc-8e90-1a44810fbf01",
   "metadata": {},
   "outputs": [],
   "source": [
    "# Define the status, platform, order, direction, and max results\n",
    "status = 'verified'\n",
    "platform = '8gej2n93'  # Platform == PC\n",
    "orderby = 'date'\n",
    "direction = 'asc'\n",
    "max_results = 200  # Maximum results per page"
   ]
  },
  {
   "cell_type": "code",
   "execution_count": 19,
   "id": "03f040bc-85c0-4450-ba63-0f8adb2513a3",
   "metadata": {},
   "outputs": [
    {
     "data": {
      "text/plain": [
       "'o1y9okr6'"
      ]
     },
     "execution_count": 19,
     "metadata": {},
     "output_type": "execute_result"
    }
   ],
   "source": [
    "def get_game_id(game_name):\n",
    "    response = requests.get(f'{base_url}/games?name={game_name}')\n",
    "    data = response.json()\n",
    "    if response.status_code == 200:\n",
    "        return data['data'][0]['id']\n",
    "    else:\n",
    "        return None\n",
    "\n",
    "get_game_id(game_name)"
   ]
  },
  {
   "cell_type": "code",
   "execution_count": 20,
   "id": "c466b29a-02cb-4f37-8d48-5fb29cd03e9d",
   "metadata": {},
   "outputs": [],
   "source": [
    "# Define a function to get the categories for a game\n",
    "def get_categories(game_id):\n",
    "    response = requests.get(f'{base_url}/games/{game_id}/categories')\n",
    "    if response.status_code == 200:\n",
    "        data = response.json()\n",
    "        categories = {}\n",
    "        for category in data['data']:\n",
    "            categories[category['id']] = category['name']\n",
    "        return categories\n",
    "    else:\n",
    "        print(f'Request failed with status code {response.status_code}.')\n",
    "        return None"
   ]
  },
  {
   "cell_type": "code",
   "execution_count": 21,
   "id": "f65bd2a3-edf6-4522-a97c-5983b15037dd",
   "metadata": {},
   "outputs": [],
   "source": [
    "# Define a function to get the runs for a category\n",
    "def get_runs_for_category(game_id, category_id, category_name):\n",
    "    extracted_data = []\n",
    "    page = 0\n",
    "    while True:\n",
    "        offset = page * max_results\n",
    "        response = requests.get(f'{base_url}/runs?game={game_id}&category={category_id}&status={status}&platform={platform}&orderby={orderby}&direction={direction}&max={max_results}&offset={offset}')\n",
    "        if response.status_code == 200:\n",
    "            data = response.json()\n",
    "            if not data['data']:\n",
    "                break\n",
    "            for run in data['data']:\n",
    "                date = run['date']\n",
    "                submitted = run['submitted']\n",
    "                verified = run['status']['status']\n",
    "                primary_t = run['times']['primary_t']\n",
    "                realtime_t = run['times']['realtime_t']\n",
    "                extracted_data.append([date, submitted, verified, primary_t, realtime_t, category_name])\n",
    "            print(f'Page {page + 1} processed for category {category_name}.')\n",
    "        else:\n",
    "            print(f'Request failed with status code {response.status_code}. Stopping data collection.')\n",
    "            print(response.text)\n",
    "            break\n",
    "        time.sleep(.6)\n",
    "        page += 1\n",
    "    return extracted_data"
   ]
  },
  {
   "cell_type": "code",
   "execution_count": 22,
   "id": "4318841f-fa00-407b-8a66-d497c41cf958",
   "metadata": {},
   "outputs": [
    {
     "name": "stdout",
     "output_type": "stream",
     "text": [
      "Page 1 processed for category Any Heat.\n",
      "Page 2 processed for category Any Heat.\n",
      "Page 3 processed for category Any Heat.\n",
      "Page 4 processed for category Any Heat.\n",
      "Page 5 processed for category Any Heat.\n",
      "Page 6 processed for category Any Heat.\n",
      "Page 7 processed for category Any Heat.\n",
      "Page 8 processed for category Any Heat.\n",
      "Page 9 processed for category Any Heat.\n",
      "Page 10 processed for category Any Heat.\n",
      "Page 11 processed for category Any Heat.\n",
      "Page 12 processed for category Any Heat.\n",
      "Page 13 processed for category Any Heat.\n",
      "Page 14 processed for category Any Heat.\n",
      "Page 15 processed for category Any Heat.\n",
      "Page 16 processed for category Any Heat.\n",
      "Page 17 processed for category Any Heat.\n",
      "Page 18 processed for category Any Heat.\n",
      "Page 19 processed for category Any Heat.\n",
      "Page 20 processed for category Any Heat.\n",
      "Page 21 processed for category Any Heat.\n",
      "Page 22 processed for category Any Heat.\n",
      "Page 23 processed for category Any Heat.\n",
      "Page 24 processed for category Any Heat.\n",
      "Page 25 processed for category Any Heat.\n",
      "Page 26 processed for category Any Heat.\n",
      "Page 1 processed for category 32 Heat.\n",
      "Page 2 processed for category 32 Heat.\n",
      "Page 1 processed for category 40 Heat.\n",
      "Page 2 processed for category 40 Heat.\n",
      "Page 1 processed for category 50 Heat.\n",
      "Page 2 processed for category 50 Heat.\n",
      "Page 1 processed for category Fresh File.\n",
      "Page 1 processed for category FFTC.\n",
      "Page 1 processed for category OwO.\n",
      "Page 2 processed for category OwO.\n",
      "Page 1 processed for category 3 Weapons.\n",
      "Page 2 processed for category 3 Weapons.\n",
      "Page 1 processed for category All Weapons.\n",
      "Page 1 processed for category Halfspects.\n",
      "Page 1 processed for category All Aspects.\n",
      "Page 1 processed for category Any Heat (Early Access).\n",
      "Page 2 processed for category Any Heat (Early Access).\n",
      "Page 1 processed for category 32 Heat (Early Access).\n",
      "Page 1 processed for category Highest Heat (Early Access).\n",
      "Page 1 processed for category Fresh File (Early Access).\n",
      "Page 1 processed for category All Weapons (Early Access).\n"
     ]
    }
   ],
   "source": [
    "# Get the game ID\n",
    "game_id = get_game_id(game_name)\n",
    "\n",
    "# Get the categories for the game\n",
    "categories = get_categories(game_id)\n",
    "\n",
    "# Initialize an empty list to store all the data\n",
    "all_data = []\n",
    "\n",
    "# Get the runs for each category\n",
    "for category_id, category_name in categories.items():\n",
    "    all_data.extend(get_runs_for_category(game_id, category_id, category_name))\n",
    "\n",
    "# Convert the list to a DataFrame\n",
    "df = pd.DataFrame(all_data, columns=['Date', 'Submitted', 'Verified', 'Primary_t', 'Realtime_t', 'Category'])\n",
    "\n",
    "# Save the DataFrame to a CSV file\n",
    "df.to_csv('speedrun_data.csv', index=False)"
   ]
  },
  {
   "cell_type": "code",
   "execution_count": 23,
   "id": "f2029666-fcbd-4a64-9191-a03b1835ea38",
   "metadata": {},
   "outputs": [
    {
     "data": {
      "text/html": [
       "<div>\n",
       "<style scoped>\n",
       "    .dataframe tbody tr th:only-of-type {\n",
       "        vertical-align: middle;\n",
       "    }\n",
       "\n",
       "    .dataframe tbody tr th {\n",
       "        vertical-align: top;\n",
       "    }\n",
       "\n",
       "    .dataframe thead th {\n",
       "        text-align: right;\n",
       "    }\n",
       "</style>\n",
       "<table border=\"1\" class=\"dataframe\">\n",
       "  <thead>\n",
       "    <tr style=\"text-align: right;\">\n",
       "      <th></th>\n",
       "      <th>Date</th>\n",
       "      <th>Submitted</th>\n",
       "      <th>Verified</th>\n",
       "      <th>Primary_t</th>\n",
       "      <th>Realtime_t</th>\n",
       "      <th>Category</th>\n",
       "    </tr>\n",
       "  </thead>\n",
       "  <tbody>\n",
       "    <tr>\n",
       "      <th>0</th>\n",
       "      <td>2020-09-19</td>\n",
       "      <td>2020-09-19T19:56:27Z</td>\n",
       "      <td>verified</td>\n",
       "      <td>490</td>\n",
       "      <td>933</td>\n",
       "      <td>Any Heat</td>\n",
       "    </tr>\n",
       "    <tr>\n",
       "      <th>1</th>\n",
       "      <td>2020-09-19</td>\n",
       "      <td>2020-09-19T19:58:17Z</td>\n",
       "      <td>verified</td>\n",
       "      <td>552</td>\n",
       "      <td>1017</td>\n",
       "      <td>Any Heat</td>\n",
       "    </tr>\n",
       "    <tr>\n",
       "      <th>2</th>\n",
       "      <td>2020-09-22</td>\n",
       "      <td>2020-09-21T15:04:06Z</td>\n",
       "      <td>verified</td>\n",
       "      <td>808</td>\n",
       "      <td>1386</td>\n",
       "      <td>Any Heat</td>\n",
       "    </tr>\n",
       "    <tr>\n",
       "      <th>3</th>\n",
       "      <td>2020-09-22</td>\n",
       "      <td>2020-09-22T10:56:39Z</td>\n",
       "      <td>verified</td>\n",
       "      <td>498</td>\n",
       "      <td>938</td>\n",
       "      <td>Any Heat</td>\n",
       "    </tr>\n",
       "    <tr>\n",
       "      <th>4</th>\n",
       "      <td>2020-09-22</td>\n",
       "      <td>2020-09-22T13:03:25Z</td>\n",
       "      <td>verified</td>\n",
       "      <td>804</td>\n",
       "      <td>1413</td>\n",
       "      <td>Any Heat</td>\n",
       "    </tr>\n",
       "    <tr>\n",
       "      <th>...</th>\n",
       "      <td>...</td>\n",
       "      <td>...</td>\n",
       "      <td>...</td>\n",
       "      <td>...</td>\n",
       "      <td>...</td>\n",
       "      <td>...</td>\n",
       "    </tr>\n",
       "    <tr>\n",
       "      <th>7207</th>\n",
       "      <td>2020-09-02</td>\n",
       "      <td>2020-09-02T17:50:22Z</td>\n",
       "      <td>verified</td>\n",
       "      <td>6876</td>\n",
       "      <td>6876</td>\n",
       "      <td>All Weapons (Early Access)</td>\n",
       "    </tr>\n",
       "    <tr>\n",
       "      <th>7208</th>\n",
       "      <td>2020-09-05</td>\n",
       "      <td>2020-09-05T14:40:11Z</td>\n",
       "      <td>verified</td>\n",
       "      <td>6630</td>\n",
       "      <td>6630</td>\n",
       "      <td>All Weapons (Early Access)</td>\n",
       "    </tr>\n",
       "    <tr>\n",
       "      <th>7209</th>\n",
       "      <td>2020-09-07</td>\n",
       "      <td>2020-09-06T23:00:37Z</td>\n",
       "      <td>verified</td>\n",
       "      <td>6521</td>\n",
       "      <td>6521</td>\n",
       "      <td>All Weapons (Early Access)</td>\n",
       "    </tr>\n",
       "    <tr>\n",
       "      <th>7210</th>\n",
       "      <td>2020-09-16</td>\n",
       "      <td>2020-09-16T09:59:33Z</td>\n",
       "      <td>verified</td>\n",
       "      <td>6738</td>\n",
       "      <td>6738</td>\n",
       "      <td>All Weapons (Early Access)</td>\n",
       "    </tr>\n",
       "    <tr>\n",
       "      <th>7211</th>\n",
       "      <td>2020-09-18</td>\n",
       "      <td>2020-09-18T19:53:06Z</td>\n",
       "      <td>verified</td>\n",
       "      <td>6950</td>\n",
       "      <td>6950</td>\n",
       "      <td>All Weapons (Early Access)</td>\n",
       "    </tr>\n",
       "  </tbody>\n",
       "</table>\n",
       "<p>7212 rows × 6 columns</p>\n",
       "</div>"
      ],
      "text/plain": [
       "            Date             Submitted  Verified  Primary_t  Realtime_t  \\\n",
       "0     2020-09-19  2020-09-19T19:56:27Z  verified        490         933   \n",
       "1     2020-09-19  2020-09-19T19:58:17Z  verified        552        1017   \n",
       "2     2020-09-22  2020-09-21T15:04:06Z  verified        808        1386   \n",
       "3     2020-09-22  2020-09-22T10:56:39Z  verified        498         938   \n",
       "4     2020-09-22  2020-09-22T13:03:25Z  verified        804        1413   \n",
       "...          ...                   ...       ...        ...         ...   \n",
       "7207  2020-09-02  2020-09-02T17:50:22Z  verified       6876        6876   \n",
       "7208  2020-09-05  2020-09-05T14:40:11Z  verified       6630        6630   \n",
       "7209  2020-09-07  2020-09-06T23:00:37Z  verified       6521        6521   \n",
       "7210  2020-09-16  2020-09-16T09:59:33Z  verified       6738        6738   \n",
       "7211  2020-09-18  2020-09-18T19:53:06Z  verified       6950        6950   \n",
       "\n",
       "                        Category  \n",
       "0                       Any Heat  \n",
       "1                       Any Heat  \n",
       "2                       Any Heat  \n",
       "3                       Any Heat  \n",
       "4                       Any Heat  \n",
       "...                          ...  \n",
       "7207  All Weapons (Early Access)  \n",
       "7208  All Weapons (Early Access)  \n",
       "7209  All Weapons (Early Access)  \n",
       "7210  All Weapons (Early Access)  \n",
       "7211  All Weapons (Early Access)  \n",
       "\n",
       "[7212 rows x 6 columns]"
      ]
     },
     "execution_count": 23,
     "metadata": {},
     "output_type": "execute_result"
    }
   ],
   "source": [
    "# Load the data from the CSV file into a new df\n",
    "csv_df = pd.read_csv('speedrun_data.csv')\n",
    "csv_df"
   ]
  },
  {
   "cell_type": "code",
   "execution_count": 24,
   "id": "d7c0d692-26d6-4add-aa9d-4b83c27ba40c",
   "metadata": {},
   "outputs": [
    {
     "data": {
      "text/plain": [
       "Date          6448\n",
       "Submitted     6448\n",
       "Verified      6448\n",
       "Primary_t     6448\n",
       "Realtime_t    6448\n",
       "Category      6448\n",
       "dtype: int64"
      ]
     },
     "execution_count": 24,
     "metadata": {},
     "output_type": "execute_result"
    }
   ],
   "source": [
    "# Filter out rows where 'Date' or 'Submitted' is None\n",
    "csv_df = csv_df[csv_df['Date'].notnull() & csv_df['Submitted'].notnull()]\n",
    "\n",
    "# Filter out Realtime that is 0\n",
    "csv_df = csv_df[csv_df['Realtime_t'] > 0]\n",
    "csv_df.count()"
   ]
  },
  {
   "cell_type": "code",
   "execution_count": 25,
   "id": "de0e52c0-51d6-4934-9bb5-13599c7b879d",
   "metadata": {},
   "outputs": [
    {
     "data": {
      "text/plain": [
       "Category\n",
       "Any Heat                       4419\n",
       "3 Weapons                       325\n",
       "OwO                             319\n",
       "32 Heat                         252\n",
       "50 Heat                         241\n",
       "Any Heat (Early Access)         215\n",
       "40 Heat                         184\n",
       "Fresh File                      182\n",
       "All Weapons                     150\n",
       "All Aspects                      38\n",
       "Halfspects                       29\n",
       "All Weapons (Early Access)       26\n",
       "32 Heat (Early Access)           22\n",
       "Fresh File (Early Access)        21\n",
       "FFTC                             20\n",
       "Highest Heat (Early Access)       5\n",
       "Name: count, dtype: int64"
      ]
     },
     "execution_count": 25,
     "metadata": {},
     "output_type": "execute_result"
    }
   ],
   "source": [
    "csv_df['Category'].value_counts()"
   ]
  },
  {
   "cell_type": "code",
   "execution_count": 26,
   "id": "acaeb990-8c30-4e18-91bc-15dea6f174b5",
   "metadata": {},
   "outputs": [
    {
     "data": {
      "text/plain": [
       "'Any Heat'"
      ]
     },
     "execution_count": 26,
     "metadata": {},
     "output_type": "execute_result"
    }
   ],
   "source": [
    "# Get the category with the most runs\n",
    "top_category = csv_df['Category'].value_counts().idxmax()\n",
    "\n",
    "# Filter the DataFrame to only include runs from the top category\n",
    "csv_df = csv_df[csv_df['Category'] == top_category]\n",
    "top_category"
   ]
  },
  {
   "cell_type": "markdown",
   "id": "54d628b4-760f-484e-9ce4-5f185d7da6aa",
   "metadata": {},
   "source": [
    "### Preparing data to do linear fit"
   ]
  },
  {
   "cell_type": "code",
   "execution_count": 27,
   "id": "16f58da2-fb0f-48b7-8347-618973d86aaa",
   "metadata": {},
   "outputs": [],
   "source": [
    "# Getting the running top score\n",
    "csv_df['Top_Score'] = csv_df['Realtime_t'].cummin()\n",
    "\n",
    "# Converting 'Date' is in datetime format\n",
    "csv_df['Date'] = pd.to_datetime(csv_df['Date'])\n",
    "\n",
    "# Sort by date\n",
    "csv_df = csv_df.sort_values('Date')\n",
    "\n",
    "# Define x (date) and y (top score)\n",
    "x = csv_df['Date'].map(dt.datetime.toordinal).values\n",
    "y = csv_df['Top_Score'].values\n",
    "\n",
    "# Initialize piecewise linear fit with your x and y data\n",
    "my_pwlf = pwlf.PiecewiseLinFit(x, y)\n",
    "\n",
    "# Fit the data for two line segments\n",
    "res = my_pwlf.fit(2)\n",
    "\n",
    "# Predict for the determined points\n",
    "xHat = np.linspace(min(x), max(x), num=10000)\n",
    "yHat = my_pwlf.predict(xHat)\n",
    "\n",
    "# Convert the ordinal dates back to datetime for plotting\n",
    "x_dates = [dt.datetime.fromordinal(int(i)) for i in xHat]"
   ]
  },
  {
   "cell_type": "code",
   "execution_count": 45,
   "id": "4b0d6902-5e21-449c-bd36-76f116a670ac",
   "metadata": {},
   "outputs": [
    {
     "data": {
      "image/png": "[encoded data removed]",
      "text/plain": [
       "<Figure size 1200x800 with 1 Axes>"
      ]
     },
     "metadata": {},
     "output_type": "display_data"
    }
   ],
   "source": [
    "# Create a new figure and axes with a larger size\n",
    "fig, ax = plt.subplots(figsize=(12, 8))\n",
    "\n",
    "# Plot the piecewise linear fit\n",
    "ax.plot(x_dates, yHat, linestyle='--', linewidth=3, color='lightgrey', label='Piecewise Linear Fit')\n",
    "\n",
    "# Plot the original data\n",
    "ax.plot(csv_df['Date'], csv_df['Top_Score'], linestyle='solid', linewidth=3, color='blue', label='Original Data')\n",
    "\n",
    "# Get the breakpoints that were calculated during the fit\n",
    "breakpoints = my_pwlf.fit_breaks\n",
    "\n",
    "# The elbow is the second breakpoint (the first one is the start of the data)\n",
    "elbow_x = breakpoints[1]\n",
    "elbow_y = my_pwlf.predict(elbow_x)\n",
    "\n",
    "# Convert the ordinal date back to a datetime\n",
    "elbow_date = dt.datetime.fromordinal(int(elbow_x))\n",
    "\n",
    "# Define the end point of the line (getting the label closer to the middle of the graph)\n",
    "end_x = elbow_date + (max(csv_df['Date']) - elbow_date) / 100\n",
    "end_y = elbow_y + (max(csv_df['Top_Score']) - elbow_y) / 5\n",
    "\n",
    "# Add the annotation for the elbow with a line going to the middle of the graph\n",
    "ax.annotate('Efficiency Point', fontweight='bold',\n",
    "            xy=(elbow_date, elbow_y),\n",
    "            xytext=(end_x, end_y),\n",
    "            arrowprops=dict(arrowstyle='-', color='black'))\n",
    "\n",
    "# Set the title and labels\n",
    "ax.set_title(f'Top Runs Over Time (Game: \"{game_name}\", Category: \"{top_category}\")', fontweight='bold')\n",
    "ax.set_xlabel('Date', fontweight='bold')\n",
    "ax.set_ylabel('Top Score (In Seconds)', fontweight='bold')\n",
    "\n",
    "# Format date\n",
    "date_format = mdates.DateFormatter('%Y-%m-%d')\n",
    "ax.xaxis.set_major_formatter(date_format)\n",
    "\n",
    "# Rotate date labels automatically\n",
    "fig.autofmt_xdate()\n",
    "\n",
    "# Create custom legend handles\n",
    "handle1 = mpatches.Patch(color='blue', label='Original Data')\n",
    "handle2 = mpatches.Patch(color='lightgrey', label='Piecewise Linear Fit')\n",
    "\n",
    "# Add the custom legend\n",
    "ax.legend(handles=[handle1, handle2], loc='upper right')\n",
    "\n",
    "# Add grid lines\n",
    "ax.grid(True)\n",
    "\n",
    "# Show the plot\n",
    "plt.show()"
   ]
  },
  {
   "cell_type": "code",
   "execution_count": 29,
   "id": "e8cd5f87-a760-4e82-a6db-e42c3688323f",
   "metadata": {},
   "outputs": [
    {
     "name": "stdout",
     "output_type": "stream",
     "text": [
      "Number of runs to efficiency point: 1466\n",
      "Total runs: 4419\n",
      "Date of efficiency: 2021-02-08\n",
      "Score at efficiency: [770.49087]\n",
      "Percentage of runs complete at efficiency: 33.17%\n",
      "\n",
      "Number of days to the efficiency point: 142\n",
      "Total number of days: 1235\n",
      "Percentage of days to efficiency: 11.50%\n"
     ]
    }
   ],
   "source": [
    "# Get the index of the elbow in the original data\n",
    "elbow_index = np.abs(x - elbow_x).argmin()\n",
    "\n",
    "# Calculate the number of runs to the efficiency point\n",
    "runs_to_efficiency = elbow_index + 1  # add 1 because indexing starts at 0\n",
    "\n",
    "# Calculate the percentage of runs complete at efficiency\n",
    "pct_runs_complete_at_efficiency = (runs_to_efficiency / len(x)) * 100\n",
    "\n",
    "# Calculate the number of days to the efficiency point\n",
    "days_to_efficiency = (elbow_date - min(csv_df['Date'])).days\n",
    "\n",
    "# Calculate the total number of days in the data\n",
    "total_days = (max(csv_df['Date']) - min(csv_df['Date'])).days\n",
    "\n",
    "# Calculate the percentage of days to efficiency out of total days\n",
    "pct_days_to_efficiency = (days_to_efficiency / total_days) * 100\n",
    "\n",
    "# Print the information\n",
    "print(f\"Number of runs to efficiency point: {runs_to_efficiency}\")\n",
    "print(f\"Total runs: {len(x)}\")\n",
    "print(f\"Date of efficiency: {elbow_date.strftime('%Y-%m-%d')}\")\n",
    "print(f\"Score at efficiency: {elbow_y}\")\n",
    "print(f\"Percentage of runs complete at efficiency: {pct_runs_complete_at_efficiency:.2f}%\")\n",
    "\n",
    "# Print the information\n",
    "print(\"\")\n",
    "print(f\"Number of days to the efficiency point: {days_to_efficiency}\")\n",
    "print(f\"Total number of days: {total_days}\")\n",
    "print(f\"Percentage of days to efficiency: {pct_days_to_efficiency:.2f}%\")"
   ]
  },
  {
   "cell_type": "code",
   "execution_count": null,
   "id": "a315cdb8-1a6e-4e6d-8d5d-02e2207953d6",
   "metadata": {},
   "outputs": [],
   "source": []
  }
 ],
 "metadata": {
  "kernelspec": {
   "display_name": "Python 3 (ipykernel)",
   "language": "python",
   "name": "python3"
  },
  "language_info": {
   "codemirror_mode": {
    "name": "ipython",
    "version": 3
   },
   "file_extension": ".py",
   "mimetype": "text/x-python",
   "name": "python",
   "nbconvert_exporter": "python",
   "pygments_lexer": "ipython3",
   "version": "3.12.2"
  }
 },
 "nbformat": 4,
 "nbformat_minor": 5
}
